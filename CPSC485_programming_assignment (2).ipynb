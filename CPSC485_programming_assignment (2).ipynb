{
 "cells": [
  {
   "cell_type": "code",
   "execution_count": 10,
   "id": "8a65069d",
   "metadata": {},
   "outputs": [],
   "source": [
    "#Madeline Smith\n",
    "#CWID: 886664432\n",
    "#CPSC 485\n",
    "\n",
    "#How to test program \n",
    "#scroll down to the blank In[] section underneath the code in In[5]:\n",
    "#run commmand in the following order:\n",
    "    #levenshtein(\"word1\",\"word2\")\n",
    "    #levenshtein(\"word2\",\"word1\")\n",
    "    #min_ed_dis (\"#word1\",\"#word2\")\n",
    "#this will display the follwoing output (using words: evaluation and revolution):\n",
    "    #-evaluation\n",
    "    #revolu-tion\n",
    "    #array([[ 0.,  1.,  2.,  3.,  4.,  5.,  6.,  7.,  8.,  9., 10.],\n",
    "           #[ 1.,  2.,  3.,  4.,  5.,  6.,  7.,  8.,  9., 10., 11.],\n",
    "           #[ 2.,  1.,  2.,  3.,  4.,  5.,  6.,  7.,  8.,  9., 10.],\n",
    "           #[ 3.,  2.,  1.,  2.,  3.,  4.,  5.,  6.,  7.,  8.,  9.],\n",
    "           #[ 4.,  3.,  2.,  3.,  4.,  5.,  6.,  7.,  8.,  7.,  8.],\n",
    "           #[ 5.,  4.,  3.,  4.,  3.,  4.,  5.,  6.,  7.,  8.,  9.],\n",
    "           #[ 6.,  5.,  4.,  5.,  4.,  3.,  4.,  5.,  6.,  7.,  8.],\n",
    "           #[ 7.,  6.,  5.,  6.,  5.,  4.,  5.,  4.,  5.,  6.,  7.],\n",
    "           #[ 8.,  7.,  6.,  7.,  6.,  5.,  6.,  5.,  4.,  5.,  6.],\n",
    "           #[ 9.,  8.,  7.,  8.,  7.,  6.,  7.,  6.,  5.,  4.,  5.],\n",
    "           #[10.,  9.,  8.,  9.,  8.,  7.,  8.,  7.,  6.,  5.,  4.]])\n",
    "#the reason why you have to enter the test words twice in the levenshetin function, but reversed is becuase when only\n",
    "#doing one input, it will only display the alignment of one word. I found the best workaround to be to call the \n",
    "#function twice, but writing the test words in the reverse order\n",
    "#the array function works just fine\n",
    "\n",
    "#i used two tutorials to guide me through my work, but i changed the variable names to have it work all in one\n",
    "#here are the links to the open-source tutorials i used \n",
    "#Edit distance alignment code:\n",
    "    #http://rosettacode.org/wiki/Levenshtein_distance/Alignment#Python\n",
    "#Edit distance matrix code:\n",
    "    #https://www.youtube.com/watch?v=AY2DZ4a9gyk\n",
    "    "
   ]
  },
  {
   "cell_type": "code",
   "execution_count": 4,
   "id": "58eb5297",
   "metadata": {},
   "outputs": [],
   "source": [
    "import numpy as np\n",
    "from difflib import ndiff"
   ]
  },
  {
   "cell_type": "code",
   "execution_count": 5,
   "id": "bf76fcf4",
   "metadata": {},
   "outputs": [],
   "source": [
    "def min_ed_dis(word1,word2):\n",
    "    \n",
    "    word1 = [k for k in word1]\n",
    "    word2 = [k for k in word2]\n",
    "    sol = np.zeros((len(word2),len(word1)))\n",
    "    \n",
    "    sol[0] = [j for j in range (len(word1))]\n",
    "    sol[:,0] = [j for j in range (len(word2))]\n",
    "    \n",
    "    if word1[1] != word2[1]:\n",
    "        sol[1,1] = 2\n",
    "        \n",
    "    for c in range (1, len(word1)):\n",
    "        \n",
    "        for r in range (1, len(word2)):\n",
    "            \n",
    "            if word1[c] != word2[r]:\n",
    "                sol[r,c] = min(sol[r-1,c],sol[r,c-1])+1\n",
    "            else:\n",
    "                sol[r,c] = sol[r-1,c-1]\n",
    "    return sol\n",
    "\n",
    "\n",
    "\n",
    "def levenshtein(word1,word2):\n",
    "    result = \"\"\n",
    "    pos, removed = 0,0\n",
    "    for x in ndiff(word1,word2):\n",
    "        if pos<len(word1) and word1[pos] == x[2]:\n",
    "            pos += 1\n",
    "            result += x[2]\n",
    "            \n",
    "            if x[0] == '-':\n",
    "                removed += 1\n",
    "            continue\n",
    "        else:\n",
    "            if removed > 0:\n",
    "                removed=-1\n",
    "            else:\n",
    "                result += '-'\n",
    "    print(result)"
   ]
  },
  {
   "cell_type": "code",
   "execution_count": null,
   "id": "a62e9fb1",
   "metadata": {},
   "outputs": [],
   "source": []
  }
 ],
 "metadata": {
  "kernelspec": {
   "display_name": "Python 3 (ipykernel)",
   "language": "python",
   "name": "python3"
  },
  "language_info": {
   "codemirror_mode": {
    "name": "ipython",
    "version": 3
   },
   "file_extension": ".py",
   "mimetype": "text/x-python",
   "name": "python",
   "nbconvert_exporter": "python",
   "pygments_lexer": "ipython3",
   "version": "3.9.12"
  }
 },
 "nbformat": 4,
 "nbformat_minor": 5
}
