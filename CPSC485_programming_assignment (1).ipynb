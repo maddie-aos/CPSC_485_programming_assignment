{
 "cells": [
  {
   "cell_type": "code",
   "execution_count": 1,
   "id": "8a65069d",
   "metadata": {},
   "outputs": [],
   "source": [
    "import numpy as np\n",
    "from difflib import ndiff"
   ]
  },
  {
   "cell_type": "code",
   "execution_count": 2,
   "id": "bf76fcf4",
   "metadata": {},
   "outputs": [],
   "source": [
    "def min_ed_dis(word1,word2):\n",
    "    \n",
    "    word1 = [k for k in word1]\n",
    "    word2 = [k for k in word2]\n",
    "    sol = np.zeros((len(word2),len(word1)))\n",
    "    \n",
    "    sol[0] = [j for j in range (len(word1))]\n",
    "    sol[:,0] = [j for j in range (len(word2))]\n",
    "    \n",
    "    if word1[1] != word2[1]:\n",
    "        sol[1,1] = 2\n",
    "        \n",
    "    for c in range (1, len(word1)):\n",
    "        \n",
    "        for r in range (1, len(word2)):\n",
    "            \n",
    "            if word1[c] != word2[r]:\n",
    "                sol[r,c] = min(sol[r-1,c],sol[r,c-1])+1\n",
    "            else:\n",
    "                sol[r,c] = sol[r-1,c-1]\n",
    "    return sol\n",
    "\n",
    "\n",
    "\n",
    "def levenshtein(word1,word2):\n",
    "    result = \"\"\n",
    "    pos, removed = 0,0\n",
    "    for x in ndiff(word1,word2):\n",
    "        if pos<len(word1) and word1[pos] == x[2]:\n",
    "            pos += 1\n",
    "            result += x[2]\n",
    "            \n",
    "            if x[0] == '-':\n",
    "                removed += 1\n",
    "            continue\n",
    "        else:\n",
    "            if removed > 0:\n",
    "                removed=-1\n",
    "            else:\n",
    "                result += '-'\n",
    "    print(result)"
   ]
  },
  {
   "cell_type": "code",
   "execution_count": 3,
   "id": "a432cc76",
   "metadata": {},
   "outputs": [
    {
     "name": "stdout",
     "output_type": "stream",
     "text": [
      "-evaluation\n",
      "revolu-tion\n"
     ]
    },
    {
     "data": {
      "text/plain": [
       "array([[ 0.,  1.,  2.,  3.,  4.,  5.,  6.,  7.,  8.,  9., 10.],\n",
       "       [ 1.,  2.,  3.,  4.,  5.,  6.,  7.,  8.,  9., 10., 11.],\n",
       "       [ 2.,  1.,  2.,  3.,  4.,  5.,  6.,  7.,  8.,  9., 10.],\n",
       "       [ 3.,  2.,  1.,  2.,  3.,  4.,  5.,  6.,  7.,  8.,  9.],\n",
       "       [ 4.,  3.,  2.,  3.,  4.,  5.,  6.,  7.,  8.,  7.,  8.],\n",
       "       [ 5.,  4.,  3.,  4.,  3.,  4.,  5.,  6.,  7.,  8.,  9.],\n",
       "       [ 6.,  5.,  4.,  5.,  4.,  3.,  4.,  5.,  6.,  7.,  8.],\n",
       "       [ 7.,  6.,  5.,  6.,  5.,  4.,  5.,  4.,  5.,  6.,  7.],\n",
       "       [ 8.,  7.,  6.,  7.,  6.,  5.,  6.,  5.,  4.,  5.,  6.],\n",
       "       [ 9.,  8.,  7.,  8.,  7.,  6.,  7.,  6.,  5.,  4.,  5.],\n",
       "       [10.,  9.,  8.,  9.,  8.,  7.,  8.,  7.,  6.,  5.,  4.]])"
      ]
     },
     "execution_count": 3,
     "metadata": {},
     "output_type": "execute_result"
    }
   ],
   "source": [
    "levenshtein(\"evaluation\",\"revolution\")\n",
    "levenshtein(\"revolution\",\"evaluation\")\n",
    "min_ed_dis(\"#evaluation\", \"#revolution\")"
   ]
  },
  {
   "cell_type": "code",
   "execution_count": null,
   "id": "5cbc0366",
   "metadata": {},
   "outputs": [],
   "source": []
  }
 ],
 "metadata": {
  "kernelspec": {
   "display_name": "Python 3 (ipykernel)",
   "language": "python",
   "name": "python3"
  },
  "language_info": {
   "codemirror_mode": {
    "name": "ipython",
    "version": 3
   },
   "file_extension": ".py",
   "mimetype": "text/x-python",
   "name": "python",
   "nbconvert_exporter": "python",
   "pygments_lexer": "ipython3",
   "version": "3.9.12"
  }
 },
 "nbformat": 4,
 "nbformat_minor": 5
}
